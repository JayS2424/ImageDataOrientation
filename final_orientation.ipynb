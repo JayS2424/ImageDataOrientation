{
 "cells": [
  {
   "cell_type": "markdown",
   "id": "0fd5a30e",
   "metadata": {},
   "source": [
    "# Importing Neccesary Libraries"
   ]
  },
  {
   "cell_type": "code",
   "execution_count": 1,
   "id": "205e1687",
   "metadata": {},
   "outputs": [],
   "source": [
    "import tensorflow as tf\n",
    "import matplotlib.pyplot as plt\n",
    "import cv2\n",
    "import os\n",
    "import numpy as np\n",
    "from tensorflow.keras.preprocessing import image\n",
    "from tensorflow.keras.preprocessing.image import ImageDataGenerator\n",
    "import pickle"
   ]
  },
  {
   "cell_type": "markdown",
   "id": "9b13d250",
   "metadata": {},
   "source": [
    "# Loading Pickled file of the Best CNN Model "
   ]
  },
  {
   "cell_type": "code",
   "execution_count": 2,
   "id": "4ebf8fd2",
   "metadata": {},
   "outputs": [],
   "source": [
    "with open('model_pickle4','rb')as f:\n",
    "    model4=pickle.load(f)"
   ]
  },
  {
   "cell_type": "markdown",
   "id": "6071bbd1",
   "metadata": {},
   "source": [
    "# Function for Converting PDF to Images"
   ]
  },
  {
   "cell_type": "code",
   "execution_count": 3,
   "id": "8ac95bd9",
   "metadata": {},
   "outputs": [],
   "source": [
    "import PyPDF2\n",
    "import fitz\n",
    "import pytesseract\n",
    "from PIL import Image\n",
    "\n",
    "\n",
    "def extract_image_from_pdf(pdf_file):\n",
    "    pdf = fitz.open(pdf_file)\n",
    "\n",
    "    for page_number in range(len(pdf)):\n",
    "        page = pdf[page_number]\n",
    "        image_list = page.get_images(full=True)\n",
    "\n",
    "        for image_index, img in enumerate(image_list):\n",
    "            xref = img[0]\n",
    "            base_image = pdf.extract_image(xref)\n",
    "            image_data = base_image[\"image\"]\n",
    "\n",
    "            with open(f\"image_page_{page_number + 1}_index_{image_index + 1}.png\", \"wb\") as image_file:\n",
    "                image_file.write(image_data)\n",
    "\n",
    "\n",
    "pdf_file = 'MANGILAL.pdf'  \n",
    "extract_image_from_pdf(pdf_file)"
   ]
  },
  {
   "cell_type": "markdown",
   "id": "6532fea3",
   "metadata": {},
   "source": [
    "# Function for converting Orientation of the Images by rotating it according to model output"
   ]
  },
  {
   "cell_type": "code",
   "execution_count": 4,
   "id": "79c7ed99",
   "metadata": {},
   "outputs": [
    {
     "name": "stdout",
     "output_type": "stream",
     "text": [
      "1/1 [==============================] - 0s 155ms/step\n",
      "1/1 [==============================] - 0s 22ms/step\n",
      "1/1 [==============================] - 0s 29ms/step\n",
      "1/1 [==============================] - 0s 33ms/step\n",
      "1/1 [==============================] - 0s 53ms/step\n",
      "1/1 [==============================] - 0s 27ms/step\n",
      "1/1 [==============================] - 0s 29ms/step\n",
      "1/1 [==============================] - 0s 25ms/step\n",
      "1/1 [==============================] - 0s 22ms/step\n",
      "1/1 [==============================] - 0s 30ms/step\n",
      "1/1 [==============================] - 0s 25ms/step\n",
      "1/1 [==============================] - 0s 29ms/step\n",
      "1/1 [==============================] - 0s 25ms/step\n",
      "1/1 [==============================] - 0s 24ms/step\n",
      "1/1 [==============================] - 0s 33ms/step\n"
     ]
    }
   ],
   "source": [
    "from PIL import Image\n",
    "def rotate_images(dir_path, model):\n",
    "    for imgs in os.listdir(dir_path):\n",
    "        img = image.load_img(dir_path+'//'+imgs ,target_size=(64,64))\n",
    "        img_array =image.img_to_array(img)\n",
    "        img_array = np.expand_dims(img_array, axis=0)\n",
    "        y_hat = model4.predict(img_array)\n",
    "        y_pred = np.argmax(y_hat, axis=1)[0]\n",
    "        y=int(y_pred)\n",
    "        img_pr = (dir_path+'//'+imgs)\n",
    "\n",
    "        if y==0:\n",
    "            new_img=Image.open(img_pr)\n",
    "            new_img = new_img.rotate(angle=180, expand=True)\n",
    "            new_img.save(f\"result/rotated_{imgs}\")\n",
    "        elif y==1:\n",
    "            new_img=Image.open(img_pr)\n",
    "            new_img = new_img.rotate(angle=270, expand=True)\n",
    "            new_img.save(f\"result/rotated_{imgs}\")\n",
    "        elif y==2:\n",
    "            new_img=Image.open(img_pr)\n",
    "            new_img = new_img.rotate(angle=90, expand=True)\n",
    "            new_img.save(f\"result/rotated_{imgs}\")\n",
    "        else:\n",
    "            new_img=Image.open(img_pr)\n",
    "            new_img=new_img.rotate(angle=0,expand=True)\n",
    "            new_img.save(f\"result/rotated_{imgs}\")\n",
    "dir_path='test'\n",
    "model=model4\n",
    "rotate_images(dir_path, model)"
   ]
  },
  {
   "cell_type": "markdown",
   "id": "6e45b7c6",
   "metadata": {},
   "source": [
    "# Function for Compilation of the Images to Pdf"
   ]
  },
  {
   "cell_type": "code",
   "execution_count": null,
   "id": "bb925cd8",
   "metadata": {},
   "outputs": [],
   "source": [
    "from fpdf import FPDF\n",
    "def convert_images_to_pdf(dir_path):\n",
    "    pdf = FPDF()\n",
    "    image_paths=os.listdir(dir_path)\n",
    "    for image_path in image_paths:\n",
    "        pdf.add_page()\n",
    "        pdf.image(dir_path+'/'+image_path, 0, 0, 210, 297)\n",
    "\n",
    "    pdf.output(\"output_def.pdf\")\n",
    "\n",
    "    \n",
    "dir_path='result'\n",
    "convert_images_to_pdf(dir_path)"
   ]
  }
 ],
 "metadata": {
  "kernelspec": {
   "display_name": "Python 3 (ipykernel)",
   "language": "python",
   "name": "python3"
  },
  "language_info": {
   "codemirror_mode": {
    "name": "ipython",
    "version": 3
   },
   "file_extension": ".py",
   "mimetype": "text/x-python",
   "name": "python",
   "nbconvert_exporter": "python",
   "pygments_lexer": "ipython3",
   "version": "3.10.7"
  }
 },
 "nbformat": 4,
 "nbformat_minor": 5
}
